{
 "cells": [
  {
   "cell_type": "markdown",
   "metadata": {},
   "source": [
    "Import and set up FORMULA executor in Jupyter notebook"
   ]
  },
  {
   "cell_type": "code",
   "execution_count": 1,
   "metadata": {},
   "outputs": [],
   "source": [
    "import formulallm.formula as f"
   ]
  },
  {
   "cell_type": "code",
   "execution_count": null,
   "metadata": {},
   "outputs": [],
   "source": [
    "f.help()"
   ]
  },
  {
   "cell_type": "markdown",
   "metadata": {},
   "source": [
    "Import `ParserDSL.4ml` source file and `GenericDataParser` domain that provides a generic DSL for parsing data and will be extended to model a concrete parser in FORMULA language."
   ]
  },
  {
   "cell_type": "code",
   "execution_count": null,
   "metadata": {},
   "outputs": [],
   "source": [
    "code = f.load(\"./data/parser/ParserDSL.4ml\")"
   ]
  },
  {
   "cell_type": "code",
   "execution_count": null,
   "metadata": {},
   "outputs": [],
   "source": [
    "f.details(\"GenericDataParser\")\n"
   ]
  },
  {
   "cell_type": "markdown",
   "metadata": {},
   "source": [
    "Import the following 4 files and feed them to the LLM:\n",
    "1. A buggy C program `untar1.c` from ClamAV\n",
    "2. A generic DSL for data parsing in `ParserDSL.4ml`\n",
    "3. FORMULA documentation `formula.pdf`\n",
    "4. A prompt with specific instructions in `prompt.txt` for the agent to model a Tar parser in FORMULA language."
   ]
  },
  {
   "cell_type": "code",
   "execution_count": null,
   "metadata": {},
   "outputs": [],
   "source": [
    "from formulallm.agents import FormulaLLMAgent\n",
    "from formulallm.utils.extraction import pdf2text, file2text\n",
    "text_code_in_c = file2text(\"./data/parser/untar1.c\")\n",
    "text_parser_dsl = file2text(\"./data/parser/ParserDSL.4ml\")\n",
    "text_formula_doc = pdf2text(\"./data/parser/formula.pdf\")\n",
    "text_prompt = file2text(\"./data/parser/prompt.txt\")\n",
    "print(text_prompt)"
   ]
  },
  {
   "cell_type": "markdown",
   "metadata": {},
   "source": [
    "Interactively run the agent to model a Tar parser in FORMULA language until the next user input is `q` or `quit`."
   ]
  },
  {
   "cell_type": "code",
   "execution_count": null,
   "metadata": {},
   "outputs": [],
   "source": [
    "agent = FormulaLLMAgent(model=\"gpt-4o\")\n",
    "files = [text_code_in_c, text_parser_dsl, text_formula_doc]\n",
    "agent.run(text_prompt, files)"
   ]
  },
  {
   "cell_type": "markdown",
   "metadata": {},
   "source": [
    "Improve the generated parser DSL in FORMULA and load it into FORMULA executor."
   ]
  },
  {
   "cell_type": "code",
   "execution_count": null,
   "metadata": {},
   "outputs": [],
   "source": [
    "code = f.load(\"./data/parser/GeneratedTar.4ml\")"
   ]
  },
  {
   "cell_type": "markdown",
   "metadata": {},
   "source": [
    "Execute a malicious input model to prove that the parser will get stuck in an infinite loop and never finish."
   ]
  },
  {
   "cell_type": "code",
   "execution_count": null,
   "metadata": {},
   "outputs": [],
   "source": [
    "f.query(\"maliciousInput\", \"parsingDone\")"
   ]
  },
  {
   "cell_type": "code",
   "execution_count": null,
   "metadata": {},
   "outputs": [],
   "source": [
    "f.list()"
   ]
  }
 ],
 "metadata": {
  "kernelspec": {
   "display_name": "Python 3 (ipykernel)",
   "language": "python",
   "name": "python3"
  },
  "language_info": {
   "codemirror_mode": {
    "name": "ipython",
    "version": 3
   },
   "file_extension": ".py",
   "mimetype": "text/x-python",
   "name": "python",
   "nbconvert_exporter": "python",
   "pygments_lexer": "ipython3",
   "version": "3.12.8"
  }
 },
 "nbformat": 4,
 "nbformat_minor": 4
}
