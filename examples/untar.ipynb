{
 "cells": [
  {
   "cell_type": "code",
   "execution_count": 1,
   "metadata": {},
   "outputs": [],
   "source": [
    "import formulallm.formula as f"
   ]
  },
  {
   "cell_type": "code",
   "execution_count": null,
   "metadata": {},
   "outputs": [],
   "source": [
    "f.help()"
   ]
  },
  {
   "cell_type": "code",
   "execution_count": null,
   "metadata": {},
   "outputs": [],
   "source": [
    "code = f.load(\"./data/parser/TinyDemoParser.4ml\")"
   ]
  },
  {
   "cell_type": "code",
   "execution_count": null,
   "metadata": {},
   "outputs": [],
   "source": [
    "f.details(\"TinyDemoParser\")\n"
   ]
  },
  {
   "cell_type": "code",
   "execution_count": null,
   "metadata": {},
   "outputs": [],
   "source": [
    "f.query(\"m\", \"isDone\")"
   ]
  },
  {
   "cell_type": "code",
   "execution_count": null,
   "metadata": {},
   "outputs": [],
   "source": [
    "from formulallm.agents import FormulaLLMAgent\n",
    "from formulallm.utils.extraction import pdf2text, file2text\n",
    "\n",
    "agent = FormulaLLMAgent(model=\"gpt-4o\")\n",
    "text_code_in_c = file2text(\"./data/parser/untar1.c\")\n",
    "text_parser_dsl = file2text(\"./data/parser/ParserDSL.4ml\")\n",
    "text_formula_doc = pdf2text(\"./data/parser/formula.pdf\")\n",
    "text_prompt = file2text(\"./data/parser/prompt.txt\")\n",
    "\n",
    "files = [text_code_in_c, text_parser_dsl, text_formula_doc]\n",
    "agent.run(text_prompt, files)"
   ]
  },
  {
   "cell_type": "code",
   "execution_count": null,
   "metadata": {},
   "outputs": [],
   "source": [
    "code = f.load(\"./data/parser/GeneratedTar.4ml\")"
   ]
  },
  {
   "cell_type": "code",
   "execution_count": null,
   "metadata": {},
   "outputs": [],
   "source": [
    "f.query(\"wrongModel\", \"isDone\")"
   ]
  },
  {
   "cell_type": "code",
   "execution_count": null,
   "metadata": {},
   "outputs": [],
   "source": [
    "f.list()"
   ]
  }
 ],
 "metadata": {
  "kernelspec": {
   "display_name": "Python 3 (ipykernel)",
   "language": "python",
   "name": "python3"
  },
  "language_info": {
   "codemirror_mode": {
    "name": "ipython",
    "version": 3
   },
   "file_extension": ".py",
   "mimetype": "text/x-python",
   "name": "python",
   "nbconvert_exporter": "python",
   "pygments_lexer": "ipython3",
   "version": "3.12.4"
  }
 },
 "nbformat": 4,
 "nbformat_minor": 4
}
