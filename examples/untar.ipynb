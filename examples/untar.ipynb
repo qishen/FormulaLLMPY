{
 "cells": [
  {
   "cell_type": "markdown",
   "metadata": {},
   "source": [
    "Import and set up FORMULA executor in Jupyter notebook"
   ]
  },
  {
   "cell_type": "code",
   "execution_count": 1,
   "metadata": {},
   "outputs": [],
   "source": [
    "import formulallm.formula as f"
   ]
  },
  {
   "cell_type": "code",
   "execution_count": 2,
   "metadata": {},
   "outputs": [
    {
     "name": "stdout",
     "output_type": "stream",
     "text": [
      "apply (ap)             - Start an apply task. Use: apply transformstep\n",
      "confhelp (ch)          - Provides help about module configurations and settings\n",
      "core (cr)              - Prints reduced rule set for domains / transforms. Use: core module_name\n",
      "del (d)                - Deletes a variable. Use: del var.\n",
      "det (dt)               - Prints details about the compiled module with the given name. Use: det modname\n",
      "downgrade (dg)         - Attempts to downgrade a (partial) model to Formula V1. Use: downgrade module_name\n",
      "exit (x)               - Exits the interface loop.\n",
      "extract (ex)           - Extract and install a result. Use: extract (app_id | solv_id n) output_name [render_class render_dll]\n",
      "generate (gn)          - Generate C# data model. Use: generate modname\n",
      "help (h)               - Prints this message.\n",
      "interactive (int)      - use: interactive [on | off], will stop interactive prompting (useful for automated tests)\n",
      "list (ls)              - Lists environment objects. Use: ls [vars | progs | tasks]\n",
      "load (l)               - Loads and compiles a file that is not yet loaded. Use: load filename\n",
      "print (p)              - Prints the installed program with the given name. Use: print progname\n",
      "proof (pr)             - Enumerate proofs that a ground term is derivable under a model/apply. Use: proof task_id [term]\n",
      "query (qr)             - Start a query task. Use: query model goals\n",
      "reload (rl)            - Reloads an installed program and all dependent programs. Use: reload [prog | *]\n",
      "render (r)             - Tries to render the module. Use: render modname\n",
      "save (sv)              - Saves the module modname into file.\n",
      "set (s)                - Sets a variable. Use: set var term.\n",
      "solve (sl)             - Start a solve task. Use: solve partial_model max_sols goals\n",
      "stats (st)             - Prints task statistics. Use: stats task_id [top_k_rule]\n",
      "truth (tr)             - Test if a ground term is derivable under a model/apply. Use: truth task_id [term]\n",
      "tunload (tul)          - Unloads a task. Use: tunload [id | *]\n",
      "types (typ)            - Prints inferred variable types. Use: types modname\n",
      "unload (ul)            - Unloads an installed program and all dependent programs. Use: unload [prog | *]\n",
      "verbose (v)            - Changes verbosity. Use: verbose (on | off)\n",
      "wait (w)               - Changes waiting behavior. Use: wait (on | off) to block until task completes\n",
      "watch (wch)            - Use: watch [off | on | prompt] to control watch behavior\n",
      "0.00s.\n"
     ]
    }
   ],
   "source": [
    "f.help()"
   ]
  },
  {
   "cell_type": "markdown",
   "metadata": {},
   "source": [
    "Import `ParserDSL.4ml` source file and `GenericDataParser` domain that provides a generic DSL for parsing data and will be extended to model a concrete parser in FORMULA language."
   ]
  },
  {
   "cell_type": "code",
   "execution_count": 3,
   "metadata": {},
   "outputs": [
    {
     "name": "stdout",
     "output_type": "stream",
     "text": [
      "(Compiled) ParserDSL.4ml\n",
      "0.27s.\n"
     ]
    }
   ],
   "source": [
    "code = f.load(\"./data/parser/ParserDSL.4ml\")"
   ]
  },
  {
   "cell_type": "code",
   "execution_count": 4,
   "metadata": {},
   "outputs": [
    {
     "name": "stdout",
     "output_type": "stream",
     "text": [
      "Reduced form\n",
      "domain GenericDataParser\n",
      "{\n",
      "  Status ::= { INIT, READ, UPDATE, TERMINATE, DONE }.\n",
      "  Byte ::= new (input: InputData, val: Integer, pos: Integer).\n",
      "  InputData ::= new (name: String, data: String, length: Integer).\n",
      "  State ::= new (inputData: InputData, status: Status, curPos: Integer, offset: Integer).\n",
      "  Transition ::= new (from: State, to: State).\n",
      "  IntermediateResult ::= new (name: String, context: State, derivedResult: String + Integer + { NULL }).\n",
      "  NextOffset ::= new (context: State, offset: Integer).\n",
      "  NextPos ::= new (context: State, pos: Integer).\n",
      "  OverRead ::= new (context: State).\n",
      "  CanReadMore ::= new (context: State).\n",
      "  ContinueCondition ::= new (context: State).\n",
      "\n",
      "  OverRead(State(inputData, UPDATE, pos, offset))\n",
      "    :-\n",
      "      OverRead(State(inputData, READ, pos, offset)).\n",
      "\n",
      "  OverRead(state)\n",
      "    :-\n",
      "      state is State(InputData(_, _, length), _, pos, offset), pos + offset >= length.\n",
      "\n",
      "  CanReadMore(State(inputData, UPDATE, pos, offset))\n",
      "    :-\n",
      "      CanReadMore(State(inputData, READ, pos, offset)).\n",
      "\n",
      "  CanReadMore(state)\n",
      "    :-\n",
      "      state is State(InputData(_, _, length), _, pos, offset), pos + offset < length.\n",
      "\n",
      "  ContinueCondition(State(inputData, UPDATE, pos, offset))\n",
      "    :-\n",
      "      ContinueCondition(State(inputData, READ, pos, offset)).\n",
      "\n",
      "  State(inputData, DONE, pos, offset)\n",
      "    :-\n",
      "      inputData is InputData(name, data, length), State(inputData, _, pos, offset), offset + pos >= length.\n",
      "\n",
      "  parsingDone\n",
      "    :-\n",
      "      State(_, DONE, _, _).\n",
      "\n",
      "  State(initData, INIT, 0, 0)\n",
      "    :-\n",
      "      initData is InputData(_, _, _).\n",
      "\n",
      "  State(inputData, READ, newPos, newOffset),\n",
      "  Transition(oldState, State(inputData, READ, newPos, newOffset))\n",
      "    :-\n",
      "      oldState is State(inputData, _, pos, offset), NextPos(oldState, newPos), NextOffset(oldState, newOffset), ContinueCondition(oldState).\n",
      "  conforms Byte(inputData, val, pos), inputData is InputData(_, data, length), pos >= 0, pos < length.\n",
      "}\n",
      "\n",
      "Symbol table\n",
      "       Space       |        Name        | Arity | Kind  \n",
      "-------------------|--------------------|-------|-------\n",
      "                   |      Boolean       |   0   |  unn  \n",
      "                   |        Byte        |   3   |  con  \n",
      "                   |    CanReadMore     |   1   |  con  \n",
      "                   | ContinueCondition  |   1   |  con  \n",
      "                   |        DONE        |   0   | ncnst \n",
      "                   |       FALSE        |   0   | ncnst \n",
      "                   |        INIT        |   0   | ncnst \n",
      "                   |     InputData      |   3   |  con  \n",
      "                   |      Integer       |   0   |  unn  \n",
      "                   | IntermediateResult |   3   |  con  \n",
      "                   |        NULL        |   0   | ncnst \n",
      "                   |      Natural       |   0   |  unn  \n",
      "                   |     NegInteger     |   0   |  unn  \n",
      "                   |     NextOffset     |   2   |  con  \n",
      "                   |      NextPos       |   2   |  con  \n",
      "                   |      OverRead      |   1   |  con  \n",
      "                   |     PosInteger     |   0   |  unn  \n",
      "                   |        READ        |   0   | ncnst \n",
      "                   |        Real        |   0   |  unn  \n",
      "                   |       State        |   4   |  con  \n",
      "                   |       Status       |   0   |  unn  \n",
      "                   |       String       |   0   |  unn  \n",
      "                   |     TERMINATE      |   0   | ncnst \n",
      "                   |        TRUE        |   0   | ncnst \n",
      "                   |     Transition     |   2   |  con  \n",
      "                   |       UPDATE       |   0   | ncnst \n",
      " GenericDataParser |        Any         |   0   |  unn  \n",
      " GenericDataParser |      Constant      |   0   |  unn  \n",
      " GenericDataParser |        Data        |   0   |  unn  \n",
      " GenericDataParser |      conforms      |   0   | dcnst \n",
      " GenericDataParser |   notFunctional    |   0   | dcnst \n",
      " GenericDataParser |    notInjective    |   0   | dcnst \n",
      " GenericDataParser |    notInvTotal     |   0   | dcnst \n",
      " GenericDataParser |   notRelational    |   0   | dcnst \n",
      " GenericDataParser |      notTotal      |   0   | dcnst \n",
      " GenericDataParser |    parsingDone     |   0   | dcnst \n",
      " GenericDataParser |     ~conforms0     |   0   | dcnst \n",
      "\n",
      "Type constants:  #Boolean #Byte #Byte[0] #Byte[1] #Byte[2] #CanReadMore #CanReadMore[0] #ContinueCondition #ContinueCondition[0] #InputData #InputData[0] #InputData[1] #InputData[2] #Integer #IntermediateResult #IntermediateResult[0] #IntermediateResult[1] #IntermediateResult[2] #Natural #NegInteger #NextOffset #NextOffset[0] #NextOffset[1] #NextPos #NextPos[0] #NextPos[1] #OverRead #OverRead[0] #PosInteger #Real #State #State[0] #State[1] #State[2] #State[3] #Status #String #Transition #Transition[0] #Transition[1] GenericDataParser.#Any GenericDataParser.#Constant GenericDataParser.#Data\n",
      "Symbolic constants: \n",
      "Rationals: 0 \n",
      "Strings: \n",
      "Variables: data initData inputData length name newOffset newPos offset oldState pos state val \n",
      "0.02s.\n"
     ]
    }
   ],
   "source": [
    "f.details(\"GenericDataParser\")\n"
   ]
  },
  {
   "cell_type": "markdown",
   "metadata": {},
   "source": [
    "Import the following 4 files and feed them to the LLM:\n",
    "1. A buggy C program `untar1.c` from ClamAV\n",
    "2. A generic DSL for data parsing in `ParserDSL.4ml`\n",
    "3. FORMULA documentation `formula.pdf`\n",
    "4. A prompt with specific instructions in `prompt.txt` for the agent to model a Tar parser in FORMULA language."
   ]
  },
  {
   "cell_type": "code",
   "execution_count": 5,
   "metadata": {},
   "outputs": [
    {
     "name": "stdout",
     "output_type": "stream",
     "text": [
      "1. Understand the C code in untar1.c, FORMULA documentation and ParserDSL.4ml. \n",
      "2. Model untar1.c in FORMULA by extending the `GenericDataParser` domain in ParserDSL.4ml. \n",
      "3. Do not change the type definition in `GenericDataParser` domain such as Status and IntermediateResult.\n",
      "4. Use strJoin() in FORMULA to concatenate strings.\n",
      "5. Model `skipEntry` as IntermediateResult in FORMULA and reflect how its value affects the parsing.\n",
      "6. Model how `skipEntry` is computed from other IntermediateResults or the current read.\n"
     ]
    }
   ],
   "source": [
    "from formulallm.agents import FormulaLLMAgent\n",
    "from formulallm.utils.extraction import pdf2text, file2text\n",
    "text_code_in_c = file2text(\"./data/parser/untar1.c\")\n",
    "text_parser_dsl = file2text(\"./data/parser/ParserDSL.4ml\")\n",
    "text_formula_doc = pdf2text(\"./data/parser/formula.pdf\")\n",
    "text_prompt = file2text(\"./data/parser/prompt.txt\")\n",
    "print(text_prompt)"
   ]
  },
  {
   "cell_type": "markdown",
   "metadata": {},
   "source": [
    "Interactively and iteratively run the LLM agent to model a Tar parser in FORMULA language with additional user input until the next user input is `q` or `quit`."
   ]
  },
  {
   "cell_type": "code",
   "execution_count": 7,
   "metadata": {},
   "outputs": [
    {
     "name": "stdout",
     "output_type": "stream",
     "text": [
      "Starting conversation with the agent. Type 'exit' to end the session.\n",
      "Getting back results from initial prompt...\n",
      "Assistant: To model the `untar1.c` code in FORMULA by extending the `GenericDataParser` domain in `ParserDSL.4ml`, we need to focus on the key aspects of the C code that are relevant to parsing and how they can be represented in FORMULA. Here's a step-by-step approach to achieve this:\n",
      "\n",
      "1. **Understand the C Code**: The `untar1.c` code is responsible for reading and extracting files from a tar archive. It reads blocks of data, checks for file types, and handles different cases like directories, symbolic links, and special files. The `skipEntry` variable is used to determine whether a particular entry should be skipped based on its type or if there are errors in reading the size.\n",
      "\n",
      "2. **Identify Key Elements for FORMULA**:\n",
      "   - **Status**: Represents the state of the parsing process (e.g., INIT, READ, UPDATE, DONE).\n",
      "   - **IntermediateResult**: Represents intermediate parsing results, such as `skipEntry`.\n",
      "   - **String Operations**: Use `strJoin()` for string concatenation.\n",
      "\n",
      "3. **Model `skipEntry` as an IntermediateResult**:\n",
      "   - `skipEntry` is computed based on the type of the entry and the validity of the size. It affects whether the entry is processed or skipped.\n",
      "\n",
      "4. **Extend `GenericDataParser` Domain**:\n",
      "   - Define `IntermediateResult` for `skipEntry`.\n",
      "   - Use `strJoin()` for constructing file paths or messages.\n",
      "\n",
      "Here's how you can model this in FORMULA:\n",
      "\n",
      "```formula\n",
      "domain TarParser extends GenericDataParser {\n",
      "    // Define IntermediateResult for skipEntry\n",
      "    IntermediateResult ::= new (name: String, context: State, derivedResult: Boolean).\n",
      "\n",
      "    // Define how skipEntry is computed\n",
      "    SkipEntryCondition ::= new (context: State, typeFlag: String, sizeValid: Boolean).\n",
      "\n",
      "    // Rule to determine skipEntry based on type and size\n",
      "    IntermediateResult(\"skipEntry\", state, skip) :-\n",
      "        state is State(inputData, READ, pos, offset),\n",
      "        SkipEntryCondition(state, typeFlag, sizeValid),\n",
      "        (typeFlag in {\"1\", \"2\", \"3\", \"4\", \"5\", \"6\", \"K\", \"L\", \"N\", \"A\", \"E\", \"I\", \"g\", \"x\", \"X\"}; not(sizeValid)),\n",
      "        skip = TRUE.\n",
      "\n",
      "    // Rule to determine valid size\n",
      "    ValidSize ::= new (context: State, size: Integer).\n",
      "    ValidSize(state, size) :- size >= 0.\n",
      "\n",
      "    // Rule to compute SkipEntryCondition\n",
      "    SkipEntryCondition(state, typeFlag, sizeValid) :-\n",
      "        state is State(inputData, READ, pos, offset),\n",
      "        Byte(inputData, typeFlag, pos + 156), // Assuming typeFlag is at position 156\n",
      "        Byte(inputData, sizeStr, pos + 124), // Assuming size is at position 124\n",
      "        size = octal(sizeStr),\n",
      "        ValidSize(state, size),\n",
      "        sizeValid = TRUE.\n",
      "\n",
      "    // Use strJoin for constructing file paths\n",
      "    FilePath ::= new (context: State, path: String).\n",
      "    FilePath(state, path) :-\n",
      "        state is State(inputData, READ, pos, offset),\n",
      "        strJoin(\"/tmp/\", strJoin(\"tar\", toString(files)), path).\n",
      "}\n",
      "```\n",
      "\n",
      "### Explanation:\n",
      "- **IntermediateResult**: `skipEntry` is modeled as an `IntermediateResult` that is derived based on the type of the entry and the validity of the size.\n",
      "- **SkipEntryCondition**: This is a helper to determine if an entry should be skipped based on its type and size validity.\n",
      "- **ValidSize**: A simple rule to check if the size is valid (non-negative).\n",
      "- **strJoin**: Used to construct file paths, similar to how `snprintf` is used in C.\n",
      "\n",
      "This FORMULA model captures the essence of the `untar1.c` logic related to parsing and skipping entries, while adhering to the constraints and types defined in the `GenericDataParser` domain.\n"
     ]
    },
    {
     "name": "stdin",
     "output_type": "stream",
     "text": [
      "User:  exit\n"
     ]
    },
    {
     "name": "stdout",
     "output_type": "stream",
     "text": [
      "Goodbye!\n"
     ]
    }
   ],
   "source": [
    "agent = FormulaLLMAgent(model=\"gpt-4o\")\n",
    "files = [text_code_in_c, text_parser_dsl, text_formula_doc]\n",
    "agent.run(text_prompt, files)"
   ]
  },
  {
   "cell_type": "markdown",
   "metadata": {},
   "source": [
    "Improve the generated parser DSL in FORMULA and load it into FORMULA executor."
   ]
  },
  {
   "cell_type": "code",
   "execution_count": 8,
   "metadata": {},
   "outputs": [
    {
     "name": "stdout",
     "output_type": "stream",
     "text": [
      "(Compiled) GeneratedTar.4ml\n",
      "(Compiled) ParserDSL.4ml\n",
      "1.02s.\n"
     ]
    }
   ],
   "source": [
    "code = f.load(\"./data/parser/GeneratedTar.4ml\")"
   ]
  },
  {
   "cell_type": "markdown",
   "metadata": {},
   "source": [
    "Execute a malicious input model to show that the evaluation of `parsingDone` returns false when the parser gets stuck in an infinite loop and will never reach the end of the input."
   ]
  },
  {
   "cell_type": "code",
   "execution_count": 9,
   "metadata": {},
   "outputs": [
    {
     "name": "stdout",
     "output_type": "stream",
     "text": [
      "Parsing text took: 1\n",
      "Visiting text took: 0\n",
      "Started query task with Id 0.\n",
      "0.47s.\n"
     ]
    }
   ],
   "source": [
    "f.query(\"maliciousInput\", \"parsingDone\")"
   ]
  },
  {
   "cell_type": "code",
   "execution_count": 11,
   "metadata": {},
   "outputs": [
    {
     "name": "stdout",
     "output_type": "stream",
     "text": [
      "\n",
      "Environment variables\n",
      "\n",
      "Programs in file root\n",
      " +-- /\n",
      "  +-- Users\n",
      "   +-- qishenzhang\n",
      "    +-- projects\n",
      "     +-- FormulaLLMPY\n",
      "      +-- examples\n",
      "       +-- data\n",
      "        +-- parser [2 file(s)]\n",
      "        | GeneratedTar.4ml\n",
      "        | ParserDSL.4ml\n",
      "\n",
      "Programs in env root\n",
      " +-- /\n",
      "\n",
      "All tasks\n",
      " Id | Kind  | Status | Result |     Started      | Duration \n",
      "----|-------|--------|--------|------------------|----------\n",
      " 0  | Query |  Done  | false  | 2/5/2025 4:10 PM |  0.33s   \n",
      "0.00s.\n"
     ]
    }
   ],
   "source": [
    "f.list()"
   ]
  },
  {
   "cell_type": "code",
   "execution_count": null,
   "metadata": {},
   "outputs": [],
   "source": []
  }
 ],
 "metadata": {
  "kernelspec": {
   "display_name": "Python 3 (ipykernel)",
   "language": "python",
   "name": "python3"
  },
  "language_info": {
   "codemirror_mode": {
    "name": "ipython",
    "version": 3
   },
   "file_extension": ".py",
   "mimetype": "text/x-python",
   "name": "python",
   "nbconvert_exporter": "python",
   "pygments_lexer": "ipython3",
   "version": "3.12.8"
  }
 },
 "nbformat": 4,
 "nbformat_minor": 4
}
