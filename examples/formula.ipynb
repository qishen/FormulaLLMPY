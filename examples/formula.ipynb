{
 "cells": [
  {
   "cell_type": "code",
   "execution_count": 1,
   "id": "26447eeb-bca9-4c1e-b06a-3824eb1dbff5",
   "metadata": {},
   "outputs": [],
   "source": [
    "import formulallm.formula as f"
   ]
  },
  {
   "cell_type": "code",
   "execution_count": null,
   "id": "05407cdc-c896-4a22-a825-8c087939823b",
   "metadata": {},
   "outputs": [],
   "source": [
    "# List of available methods \n",
    "dir(f)"
   ]
  },
  {
   "cell_type": "code",
   "execution_count": null,
   "id": "d3aa64f7-1dde-4a1b-a433-85f643179709",
   "metadata": {},
   "outputs": [],
   "source": [
    "f.help()"
   ]
  },
  {
   "cell_type": "code",
   "execution_count": null,
   "id": "e6b8403b-562b-40ab-8f70-2caa531a1f47",
   "metadata": {},
   "outputs": [],
   "source": [
    "code = f.load(\"./data/MappingExample.4ml\")"
   ]
  },
  {
   "cell_type": "code",
   "execution_count": null,
   "id": "ade37b0d-f9f3-40df-a480-2ec4fe2cfda0",
   "metadata": {},
   "outputs": [],
   "source": [
    "f.solve(\"pm\",\"1\",\"Mapping.conforms\")"
   ]
  },
  {
   "cell_type": "code",
   "execution_count": null,
   "id": "4c578f47-d949-47db-91e2-d1194ede9f57",
   "metadata": {},
   "outputs": [],
   "source": [
    "f.list()"
   ]
  },
  {
   "cell_type": "code",
   "execution_count": null,
   "id": "234360f9-cd39-4768-8a42-72888a1f437e",
   "metadata": {},
   "outputs": [],
   "source": [
    "f.extract(\"0\",\"0\",\"0\")"
   ]
  },
  {
   "cell_type": "code",
   "execution_count": null,
   "id": "aef08dc4-816d-4774-8a03-fca25aa5a80d",
   "metadata": {},
   "outputs": [],
   "source": []
  }
 ],
 "metadata": {
  "kernelspec": {
   "display_name": "Python 3 (ipykernel)",
   "language": "python",
   "name": "python3"
  },
  "language_info": {
   "codemirror_mode": {
    "name": "ipython",
    "version": 3
   },
   "file_extension": ".py",
   "mimetype": "text/x-python",
   "name": "python",
   "nbconvert_exporter": "python",
   "pygments_lexer": "ipython3",
   "version": "3.12.4"
  }
 },
 "nbformat": 4,
 "nbformat_minor": 5
}
