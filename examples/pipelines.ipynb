{
 "cells": [
  {
   "cell_type": "code",
   "execution_count": 1,
   "metadata": {},
   "outputs": [],
   "source": [
    "from formulallm.pipelines import OllamaQAPipeline, OllamaMultiQAPipeline"
   ]
  },
  {
   "cell_type": "code",
   "execution_count": 2,
   "metadata": {},
   "outputs": [],
   "source": [
    "oqap = OllamaQAPipeline()"
   ]
  },
  {
   "cell_type": "code",
   "execution_count": null,
   "metadata": {},
   "outputs": [],
   "source": [
    "file = r'./data/parser/formula.pdf'\n",
    "question = \"Can you summarize what is in the file given the following context?\"\n",
    "oqap.load_document(file)\n",
    "res = oqap.run(question)\n",
    "print(res)"
   ]
  },
  {
   "cell_type": "code",
   "execution_count": null,
   "metadata": {},
   "outputs": [],
   "source": [
    "source_path = r'/path/to/file/folder'\n",
    "question = \"Can you summarize what is in the files given the following contexts?\"\n",
    "omqap.load_documents(source_path)\n",
    "res = omqap.run(question)\n",
    "print(res)"
   ]
  },
  {
   "cell_type": "code",
   "execution_count": null,
   "metadata": {},
   "outputs": [],
   "source": [
    "omqap = OllamaMultiQAPipeline()"
   ]
  },
  {
   "cell_type": "code",
   "execution_count": null,
   "metadata": {},
   "outputs": [],
   "source": [
    "imgs = [r'/path/to/image1.jpg', r'/path/to/image2.jpg']\n",
    "question = \"What is being shown in the image?\"\n",
    "res = oqap.run_multi_modal(imgs, question)\n",
    "print(res)"
   ]
  },
  {
   "cell_type": "code",
   "execution_count": null,
   "metadata": {},
   "outputs": [],
   "source": [
    "omqap = OllamaMultiQAPipeline(multi_modal_temp=0.8,\n",
    "                              num_thread=12,\n",
    "                              num_ctx=4096,\n",
    "                              top_k=100,\n",
    "                              top_p=0.95)"
   ]
  },
  {
   "cell_type": "code",
   "execution_count": null,
   "metadata": {},
   "outputs": [],
   "source": [
    "image = r'/path/to/image1.png'\n",
    "source_path = r'/path/to/file/folder'\n",
    "prompt = r'What is being show in this image?'\n",
    "omqap.load_documents(source_path)\n",
    "omqap.extract_image_data(image, prompt)"
   ]
  },
  {
   "cell_type": "code",
   "execution_count": null,
   "metadata": {},
   "outputs": [],
   "source": [
    "source_path = r'/path/to/file/folder'\n",
    "prompt = \"Can you summarize what is in the files given the following contexts?\"\n",
    "# Use larger chunk size for bigger files.\n",
    "omqap.load_documents(source_path=source_path, chunk_size=4096)\n",
    "omqap.extract_data(prompt)"
   ]
  },
  {
   "cell_type": "code",
   "execution_count": null,
   "metadata": {},
   "outputs": [],
   "source": []
  }
 ],
 "metadata": {
  "kernelspec": {
   "display_name": "Python 3 (ipykernel)",
   "language": "python",
   "name": "python3"
  },
  "language_info": {
   "codemirror_mode": {
    "name": "ipython",
    "version": 3
   },
   "file_extension": ".py",
   "mimetype": "text/x-python",
   "name": "python",
   "nbconvert_exporter": "python",
   "pygments_lexer": "ipython3",
   "version": "3.10.16"
  }
 },
 "nbformat": 4,
 "nbformat_minor": 4
}
