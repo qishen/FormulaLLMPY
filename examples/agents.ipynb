{
 "cells": [
  {
   "cell_type": "code",
   "execution_count": null,
   "id": "050d5d96-2ed2-4bf8-9691-b80d4b81d6e6",
   "metadata": {},
   "outputs": [],
   "source": [
    "from formulallm.formula import *\n",
    "from formulallm.agents import FormulaAgent"
   ]
  },
  {
   "cell_type": "code",
   "execution_count": 5,
   "id": "7ab9d252-3caa-4a81-85d3-7c4e0a92f47d",
   "metadata": {},
   "outputs": [],
   "source": [
    "fa = FormulaAgent(\"gpt-3.5-turbo-0125\")"
   ]
  },
  {
   "cell_type": "code",
   "execution_count": null,
   "id": "744121f0-a9a6-4ecc-a8d6-42be5857fb62",
   "metadata": {},
   "outputs": [],
   "source": [
    "code = load(\".\\data\\MappingExample.4ml\")"
   ]
  },
  {
   "cell_type": "code",
   "execution_count": null,
   "id": "187342d8-56fe-4039-a8b1-d3ffe61af6ee",
   "metadata": {},
   "outputs": [],
   "source": [
    "prompt = \"Can you tell me what this formula model is doing?\"\n",
    "fa.run(code, prompt)"
   ]
  }
 ],
 "metadata": {
  "kernelspec": {
   "display_name": "Python 3 (ipykernel)",
   "language": "python",
   "name": "python3"
  },
  "language_info": {
   "codemirror_mode": {
    "name": "ipython",
    "version": 3
   },
   "file_extension": ".py",
   "mimetype": "text/x-python",
   "name": "python",
   "nbconvert_exporter": "python",
   "pygments_lexer": "ipython3",
   "version": "3.12.4"
  }
 },
 "nbformat": 4,
 "nbformat_minor": 5
}
